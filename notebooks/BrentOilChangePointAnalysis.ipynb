{
 "cells": [
  {
   "cell_type": "markdown",
   "id": "e8095dbd",
   "metadata": {},
   "source": [
    "# Brent Oil Price Change Point Analysis\n",
    "**Author:** Mulsew M. Tesfaye\n",
    "\n",
    "This notebook analyzes historical Brent Oil prices to detect change points, trends, and seasonality. The insights help understand major shifts in oil markets."
   ]
  },
  {
   "cell_type": "code",
   "execution_count": 1,
   "id": "5e0ab858",
   "metadata": {},
   "outputs": [],
   "source": [
    "import pandas as pd\n",
    "import numpy as np\n",
    "import matplotlib.pyplot as plt\n",
    "from scipy.signal import find_peaks\n",
    "from statsmodels.tsa.seasonal import seasonal_decompose"
   ]
  },
  {
   "cell_type": "markdown",
   "id": "7efeb3d5",
   "metadata": {},
   "source": [
    "## Load and Inspect Data"
   ]
  },
  {
   "cell_type": "code",
   "execution_count": 2,
   "id": "c150ac35",
   "metadata": {},
   "outputs": [
    {
     "data": {
      "text/html": [
       "<div>\n",
       "<style scoped>\n",
       "    .dataframe tbody tr th:only-of-type {\n",
       "        vertical-align: middle;\n",
       "    }\n",
       "\n",
       "    .dataframe tbody tr th {\n",
       "        vertical-align: top;\n",
       "    }\n",
       "\n",
       "    .dataframe thead th {\n",
       "        text-align: right;\n",
       "    }\n",
       "</style>\n",
       "<table border=\"1\" class=\"dataframe\">\n",
       "  <thead>\n",
       "    <tr style=\"text-align: right;\">\n",
       "      <th></th>\n",
       "      <th>Date</th>\n",
       "      <th>Price</th>\n",
       "    </tr>\n",
       "  </thead>\n",
       "  <tbody>\n",
       "    <tr>\n",
       "      <th>0</th>\n",
       "      <td>20-May-87</td>\n",
       "      <td>18.63</td>\n",
       "    </tr>\n",
       "    <tr>\n",
       "      <th>1</th>\n",
       "      <td>21-May-87</td>\n",
       "      <td>18.45</td>\n",
       "    </tr>\n",
       "    <tr>\n",
       "      <th>2</th>\n",
       "      <td>22-May-87</td>\n",
       "      <td>18.55</td>\n",
       "    </tr>\n",
       "    <tr>\n",
       "      <th>3</th>\n",
       "      <td>25-May-87</td>\n",
       "      <td>18.60</td>\n",
       "    </tr>\n",
       "    <tr>\n",
       "      <th>4</th>\n",
       "      <td>26-May-87</td>\n",
       "      <td>18.63</td>\n",
       "    </tr>\n",
       "  </tbody>\n",
       "</table>\n",
       "</div>"
      ],
      "text/plain": [
       "        Date  Price\n",
       "0  20-May-87  18.63\n",
       "1  21-May-87  18.45\n",
       "2  22-May-87  18.55\n",
       "3  25-May-87  18.60\n",
       "4  26-May-87  18.63"
      ]
     },
     "execution_count": 2,
     "metadata": {},
     "output_type": "execute_result"
    }
   ],
   "source": [
    "df = pd.read_csv('../data/raw/BrentOilPrices.csv')\n",
    "df.head()"
   ]
  },
  {
   "cell_type": "markdown",
   "id": "a8cabebe",
   "metadata": {},
   "source": [
    "## Data Cleaning and Preprocessing\n",
    "- Convert date format to `YYYY-MM-DD`\n",
    "- Handle missing values\n",
    "- Sort data chronologically"
   ]
  },
  {
   "cell_type": "code",
   "execution_count": 3,
   "id": "25c9e9b6",
   "metadata": {},
   "outputs": [
    {
     "name": "stderr",
     "output_type": "stream",
     "text": [
      "/var/folders/5k/spsmltbj1jg0m87zn5zdbd1r0000gn/T/ipykernel_34344/3916337780.py:1: UserWarning: The argument 'infer_datetime_format' is deprecated and will be removed in a future version. A strict version of it is now the default, see https://pandas.pydata.org/pdeps/0004-consistent-to-datetime-parsing.html. You can safely remove this argument.\n",
      "  df['Date'] = pd.to_datetime(df['Date'], infer_datetime_format=True, errors='coerce')\n",
      "/var/folders/5k/spsmltbj1jg0m87zn5zdbd1r0000gn/T/ipykernel_34344/3916337780.py:1: UserWarning: Could not infer format, so each element will be parsed individually, falling back to `dateutil`. To ensure parsing is consistent and as-expected, please specify a format.\n",
      "  df['Date'] = pd.to_datetime(df['Date'], infer_datetime_format=True, errors='coerce')\n"
     ]
    },
    {
     "data": {
      "text/html": [
       "<div>\n",
       "<style scoped>\n",
       "    .dataframe tbody tr th:only-of-type {\n",
       "        vertical-align: middle;\n",
       "    }\n",
       "\n",
       "    .dataframe tbody tr th {\n",
       "        vertical-align: top;\n",
       "    }\n",
       "\n",
       "    .dataframe thead th {\n",
       "        text-align: right;\n",
       "    }\n",
       "</style>\n",
       "<table border=\"1\" class=\"dataframe\">\n",
       "  <thead>\n",
       "    <tr style=\"text-align: right;\">\n",
       "      <th></th>\n",
       "      <th>Date</th>\n",
       "      <th>Price</th>\n",
       "    </tr>\n",
       "  </thead>\n",
       "  <tbody>\n",
       "    <tr>\n",
       "      <th>0</th>\n",
       "      <td>1987-05-20</td>\n",
       "      <td>18.63</td>\n",
       "    </tr>\n",
       "    <tr>\n",
       "      <th>1</th>\n",
       "      <td>1987-05-21</td>\n",
       "      <td>18.45</td>\n",
       "    </tr>\n",
       "    <tr>\n",
       "      <th>2</th>\n",
       "      <td>1987-05-22</td>\n",
       "      <td>18.55</td>\n",
       "    </tr>\n",
       "    <tr>\n",
       "      <th>3</th>\n",
       "      <td>1987-05-25</td>\n",
       "      <td>18.60</td>\n",
       "    </tr>\n",
       "    <tr>\n",
       "      <th>4</th>\n",
       "      <td>1987-05-26</td>\n",
       "      <td>18.63</td>\n",
       "    </tr>\n",
       "  </tbody>\n",
       "</table>\n",
       "</div>"
      ],
      "text/plain": [
       "        Date  Price\n",
       "0 1987-05-20  18.63\n",
       "1 1987-05-21  18.45\n",
       "2 1987-05-22  18.55\n",
       "3 1987-05-25  18.60\n",
       "4 1987-05-26  18.63"
      ]
     },
     "execution_count": 3,
     "metadata": {},
     "output_type": "execute_result"
    }
   ],
   "source": [
    "df['Date'] = pd.to_datetime(df['Date'], infer_datetime_format=True, errors='coerce')\n",
    "df = df.dropna(subset=['Date']).sort_values(by='Date')\n",
    "df.to_csv('../data/processed/BrentOilPrices_cleaned.csv', index=False)\n",
    "df.head()"
   ]
  },
  {
   "cell_type": "markdown",
   "id": "e59bf749",
   "metadata": {},
   "source": [
    "## Time Series Visualization"
   ]
  },
  {
   "cell_type": "code",
   "execution_count": null,
   "id": "69f6e1d4",
   "metadata": {},
   "outputs": [],
   "source": [
    "plt.figure(figsize=(14, 6))\n",
    "plt.plot(df['Date'], df['Price'], label='Brent Oil Price', color='blue', linewidth=1)\n",
    "plt.xlabel('Year')\n",
    "plt.ylabel('Price (USD per Barrel)')\n",
    "plt.title('Brent Oil Prices Over Time')\n",
    "plt.legend()\n",
    "plt.grid(True)\n",
    "plt.show()"
   ]
  },
  {
   "cell_type": "markdown",
   "id": "85333cdc",
   "metadata": {},
   "source": [
    "## Change Point Detection using CUSUM Method"
   ]
  },
  {
   "cell_type": "code",
   "execution_count": null,
   "id": "cfd4b7ff",
   "metadata": {},
   "outputs": [],
   "source": [
    "mean_price = df['Price'].mean()\n",
    "cusum = np.cumsum(df['Price'] - mean_price)\n",
    "peaks, _ = find_peaks(np.abs(cusum), distance=365)\n",
    "\n",
    "# Plot\n",
    "plt.figure(figsize=(14, 6))\n",
    "plt.plot(df['Date'], df['Price'], label='Brent Oil Price', color='blue', linewidth=1)\n",
    "plt.scatter(df['Date'].iloc[peaks], df['Price'].iloc[peaks], color='red', label='Detected Change Points', marker='o', s=50)\n",
    "plt.xlabel('Year')\n",
    "plt.ylabel('Price (USD per Barrel)')\n",
    "plt.title('Brent Oil Prices with Detected Change Points')\n",
    "plt.legend()\n",
    "plt.grid(True)\n",
    "plt.show()\n",
    "\n",
    "# Display Change Points\n",
    "df.iloc[peaks][['Date', 'Price']]"
   ]
  },
  {
   "cell_type": "markdown",
   "id": "5c70eba3",
   "metadata": {},
   "source": [
    "## Trend and Seasonality Analysis"
   ]
  },
  {
   "cell_type": "code",
   "execution_count": null,
   "id": "74449d90",
   "metadata": {},
   "outputs": [],
   "source": [
    "decomposition = seasonal_decompose(df.set_index('Date')['Price'], model='additive', period=365)\n",
    "\n",
    "# Plot Decomposed Components\n",
    "plt.figure(figsize=(14, 10))\n",
    "plt.subplot(3, 1, 1)\n",
    "plt.plot(decomposition.trend, label='Trend', color='blue')\n",
    "plt.legend()\n",
    "plt.title('Trend Component')\n",
    "\n",
    "plt.subplot(3, 1, 2)\n",
    "plt.plot(decomposition.seasonal, label='Seasonality', color='green')\n",
    "plt.legend()\n",
    "plt.title('Seasonality Component')\n",
    "\n",
    "plt.subplot(3, 1, 3)\n",
    "plt.plot(decomposition.resid, label='Residual (Noise)', color='red')\n",
    "plt.legend()\n",
    "plt.title('Residual (Noise) Component')\n",
    "\n",
    "plt.tight_layout()\n",
    "plt.show()"
   ]
  },
  {
   "cell_type": "markdown",
   "id": "c74a0956",
   "metadata": {},
   "source": [
    "## Next Steps\n",
    "- Implement **ARIMA** for price trend forecasting.\n",
    "- Use **GARCH** to model price volatility.\n",
    "- Apply **Bayesian Change Point Detection** using PyMC3.\n",
    "- Develop a Flask API to serve processed data.\n",
    "- Build an interactive React dashboard."
   ]
  }
 ],
 "metadata": {
  "kernelspec": {
   "display_name": "cuda-jkyell",
   "language": "python",
   "name": "cuda"
  },
  "language_info": {
   "codemirror_mode": {
    "name": "ipython",
    "version": 3
   },
   "file_extension": ".py",
   "mimetype": "text/x-python",
   "name": "python",
   "nbconvert_exporter": "python",
   "pygments_lexer": "ipython3",
   "version": "3.11.0"
  }
 },
 "nbformat": 4,
 "nbformat_minor": 5
}
